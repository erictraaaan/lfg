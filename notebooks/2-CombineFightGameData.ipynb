{
 "cells": [
  {
   "cell_type": "code",
   "execution_count": 9,
   "id": "f817d409-50b2-4514-9d43-41ca3b124d0e",
   "metadata": {},
   "outputs": [],
   "source": [
    "import requests\n",
    "import json\n",
    "import pandas as pd\n",
    "import numpy as np"
   ]
  },
  {
   "cell_type": "code",
   "execution_count": 13,
   "id": "b7cb544b-88a7-453c-ad21-d184575b445b",
   "metadata": {},
   "outputs": [],
   "source": [
    "years = [ 20152016, 20162017, 20172018, 20182019, 20192020, 20202021]"
   ]
  },
  {
   "cell_type": "code",
   "execution_count": 12,
   "id": "7087aa94-806e-4190-beec-1ca5c49e607f",
   "metadata": {},
   "outputs": [],
   "source": [
    "frames = []\n",
    "for year in years:\n",
    "    df = pd.read_csv(f'AllFightGameData-{year}.csv')\n",
    "    frames.append(df)\n",
    "result = pd.concat(frames)\n",
    "result.to_csv('AllFightGameDataCombined.csv', index=False)"
   ]
  }
 ],
 "metadata": {
  "kernelspec": {
   "display_name": "Python 3",
   "language": "python",
   "name": "python3"
  },
  "language_info": {
   "codemirror_mode": {
    "name": "ipython",
    "version": 3
   },
   "file_extension": ".py",
   "mimetype": "text/x-python",
   "name": "python",
   "nbconvert_exporter": "python",
   "pygments_lexer": "ipython3",
   "version": "3.9.4"
  }
 },
 "nbformat": 4,
 "nbformat_minor": 5
}
