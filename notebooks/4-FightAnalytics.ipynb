{
 "cells": [
  {
   "cell_type": "code",
   "execution_count": 32,
   "id": "029c543d-d81a-4f02-b259-61009566cb34",
   "metadata": {},
   "outputs": [],
   "source": [
    "import numpy as np\n",
    "import pandas as pd\n",
    "import math"
   ]
  },
  {
   "cell_type": "code",
   "execution_count": 33,
   "id": "01260c26-ef8d-43ee-8df7-7a32ce2dcb13",
   "metadata": {},
   "outputs": [],
   "source": [
    "'''\n",
    "Import the data\n",
    "'''\n",
    "df = pd.read_csv('FightAnalytics.csv')"
   ]
  },
  {
   "cell_type": "code",
   "execution_count": 34,
   "id": "7579085f-6e45-4bc8-8bf1-d6b34aa93eaa",
   "metadata": {},
   "outputs": [],
   "source": [
    "'''\n",
    "Find rows where post-total hits > pre-total hits\n",
    "'''\n",
    "more_total_hits = df.index[ (df['postHitsTotal'] > df['preHitsTotal']) & (df['preHitsTotal'] > 0) & (df['postHitsTotal'] > 0)].tolist()\n",
    "more_total_penalties = df.index[ (df['postPenaltiesTotal'] > df['prePenaltiesTotal'])  & (df['postPenaltiesTotal'] > 0) & (df['prePenaltiesTotal'] > 0)].tolist()\n",
    "more_total_shots = df.index[ (df['postShotsTotal'] > df['preShotsTotal']) & (df['postShotsTotal'] > 0) & (df['preShotsTotal'] > 0)].tolist()"
   ]
  },
  {
   "cell_type": "code",
   "execution_count": 35,
   "id": "dbc201ab-d072-468b-9c51-a6ff24ea2ea8",
   "metadata": {},
   "outputs": [
    {
     "name": "stdout",
     "output_type": "stream",
     "text": [
      "More hits 18.09% of the time\n",
      "More penalties 51.98% of the time\n",
      "More shots 42.26% of the time\n"
     ]
    }
   ],
   "source": [
    "hit_percent = (len(more_total_hits) / df.shape[0]) * 100\n",
    "pen_percent = (len(more_total_penalties) / df.shape[0]) * 100\n",
    "shot_percent = (len(more_total_shots) / df.shape[0]) * 100\n",
    "print( \"More hits \" + \"%.2f\" % round(hit_percent, 2) + \"% of the time\")\n",
    "print( \"More penalties \" + \"%.2f\" % round(pen_percent, 2) + \"% of the time\") \n",
    "print( \"More shots \" + \"%.2f\" % round(shot_percent, 2) + \"% of the time\") "
   ]
  },
  {
   "cell_type": "code",
   "execution_count": null,
   "id": "2b2d75ed-5761-4bdd-afd6-fe4de3890874",
   "metadata": {},
   "outputs": [],
   "source": []
  }
 ],
 "metadata": {
  "kernelspec": {
   "display_name": "Python 3",
   "language": "python",
   "name": "python3"
  },
  "language_info": {
   "codemirror_mode": {
    "name": "ipython",
    "version": 3
   },
   "file_extension": ".py",
   "mimetype": "text/x-python",
   "name": "python",
   "nbconvert_exporter": "python",
   "pygments_lexer": "ipython3",
   "version": "3.9.4"
  }
 },
 "nbformat": 4,
 "nbformat_minor": 5
}
