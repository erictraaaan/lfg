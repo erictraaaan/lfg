{
 "cells": [
  {
   "cell_type": "code",
   "execution_count": 1,
   "id": "029c543d-d81a-4f02-b259-61009566cb34",
   "metadata": {},
   "outputs": [],
   "source": [
    "import numpy as np\n",
    "import pandas as pd\n",
    "import math"
   ]
  },
  {
   "cell_type": "code",
   "execution_count": 2,
   "id": "01260c26-ef8d-43ee-8df7-7a32ce2dcb13",
   "metadata": {},
   "outputs": [],
   "source": [
    "'''\n",
    "Import the data\n",
    "'''\n",
    "df = pd.read_csv('FightAnalytics.csv')"
   ]
  },
  {
   "cell_type": "code",
   "execution_count": 7,
   "id": "7579085f-6e45-4bc8-8bf1-d6b34aa93eaa",
   "metadata": {},
   "outputs": [
    {
     "name": "stdout",
     "output_type": "stream",
     "text": [
      "More hits 18.09% of the time\n",
      "More penalties 51.98% of the time\n",
      "More shots 42.26% of the time\n"
     ]
    }
   ],
   "source": [
    "'''\n",
    "Find rows where post-total hits > pre-total hits\n",
    "'''\n",
    "more_total_hits = df.index[ (df['postHitsTotal'] > df['preHitsTotal']) & (df['preHitsTotal'] > 0) & (df['postHitsTotal'] > 0)].tolist()\n",
    "more_total_penalties = df.index[ (df['postPenaltiesTotal'] > df['prePenaltiesTotal'])  & (df['postPenaltiesTotal'] > 0) & (df['prePenaltiesTotal'] > 0)].tolist()\n",
    "more_total_shots = df.index[ (df['postShotsTotal'] > df['preShotsTotal']) & (df['postShotsTotal'] > 0) & (df['preShotsTotal'] > 0)].tolist()\n",
    "hit_percent = (len(more_total_hits) / df.shape[0]) * 100\n",
    "pen_percent = (len(more_total_penalties) / df.shape[0]) * 100\n",
    "shot_percent = (len(more_total_shots) / df.shape[0]) * 100\n",
    "print( \"More hits \" + \"%.2f\" % round(hit_percent, 2) + \"% of the time\")\n",
    "print( \"More penalties \" + \"%.2f\" % round(pen_percent, 2) + \"% of the time\") \n",
    "print( \"More shots \" + \"%.2f\" % round(shot_percent, 2) + \"% of the time\") "
   ]
  },
  {
   "cell_type": "code",
   "execution_count": 5,
   "id": "2b2d75ed-5761-4bdd-afd6-fe4de3890874",
   "metadata": {},
   "outputs": [
    {
     "name": "stdout",
     "output_type": "stream",
     "text": [
      "More home hits 23.54% of the time\n",
      "More home penalties 37.36% of the time\n",
      "More home shots 41.33% of the time\n"
     ]
    }
   ],
   "source": [
    "'''\n",
    "Do the same for the home team\n",
    "'''\n",
    "more_home_hits = df.index[ (df['postHitsHome'] > df['preHitsHome']) & (df['preHitsHome'] > 0) & (df['postHitsHome'] > 0)].tolist()\n",
    "more_home_penalties = df.index[ (df['postPenaltiesHome'] > df['prePenaltiesHome'])  & (df['postPenaltiesHome'] > 0) & (df['prePenaltiesHome'] > 0)].tolist()\n",
    "more_home_shots = df.index[ (df['postShotsHome'] > df['preShotsHome']) & (df['postShotsHome'] > 0) & (df['preShotsHome'] > 0)].tolist()\n",
    "home_hit_percent = (len(more_home_hits) / df.shape[0]) * 100\n",
    "home_pen_percent = (len(more_home_penalties) / df.shape[0]) * 100\n",
    "home_shot_percent = (len(more_home_shots) / df.shape[0]) * 100\n",
    "print( \"More home hits \" + \"%.2f\" % round(home_hit_percent, 2) + \"% of the time\")\n",
    "print( \"More home penalties \" + \"%.2f\" % round(home_pen_percent, 2) + \"% of the time\") \n",
    "print( \"More home shots \" + \"%.2f\" % round(home_shot_percent, 2) + \"% of the time\") "
   ]
  },
  {
   "cell_type": "code",
   "execution_count": 6,
   "id": "2dbb4c87-311d-423d-b461-4227f2abed80",
   "metadata": {},
   "outputs": [
    {
     "name": "stdout",
     "output_type": "stream",
     "text": [
      "More away hits 22.12% of the time\n",
      "More away penalties 40.15% of the time\n",
      "More away shots 42.32% of the time\n"
     ]
    }
   ],
   "source": [
    "'''\n",
    "Do the same for the away team\n",
    "'''\n",
    "more_away_hits = df.index[ (df['postHitsAway'] > df['preHitsAway']) & (df['preHitsAway'] > 0) & (df['postHitsAway'] > 0)].tolist()\n",
    "more_away_penalties = df.index[ (df['postPenaltiesAway'] > df['prePenaltiesAway'])  & (df['postPenaltiesAway'] > 0) & (df['prePenaltiesAway'] > 0)].tolist()\n",
    "more_away_shots = df.index[ (df['postShotsAway'] > df['preShotsAway']) & (df['postShotsAway'] > 0) & (df['preShotsAway'] > 0)].tolist()\n",
    "away_hit_percent = (len(more_away_hits) / df.shape[0]) * 100\n",
    "away_pen_percent = (len(more_away_penalties) / df.shape[0]) * 100\n",
    "away_shot_percent = (len(more_away_shots) / df.shape[0]) * 100\n",
    "print( \"More away hits \" + \"%.2f\" % round(away_hit_percent, 2) + \"% of the time\")\n",
    "print( \"More away penalties \" + \"%.2f\" % round(away_pen_percent, 2) + \"% of the time\") \n",
    "print( \"More away shots \" + \"%.2f\" % round(away_shot_percent, 2) + \"% of the time\") "
   ]
  }
 ],
 "metadata": {
  "kernelspec": {
   "display_name": "Python 3",
   "language": "python",
   "name": "python3"
  },
  "language_info": {
   "codemirror_mode": {
    "name": "ipython",
    "version": 3
   },
   "file_extension": ".py",
   "mimetype": "text/x-python",
   "name": "python",
   "nbconvert_exporter": "python",
   "pygments_lexer": "ipython3",
   "version": "3.9.4"
  }
 },
 "nbformat": 4,
 "nbformat_minor": 5
}
